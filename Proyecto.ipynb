{
 "cells": [
  {
   "cell_type": "markdown",
   "id": "19eb6ef5-0762-4289-b8f9-4ffd8ca47ed4",
   "metadata": {},
   "source": [
    "# Proyecto"
   ]
  },
  {
   "cell_type": "code",
   "execution_count": 2,
   "id": "1c246332-cd36-4d63-9a4a-73d0ca41ce5b",
   "metadata": {},
   "outputs": [],
   "source": [
    "#1. Como primer paso partimos de instalar las librerias necesarias para este proyecyto, las cuales aparecen a continuación:\n",
    "\n",
    "#import esda \n",
    "import pandas as pd\n",
    "import geopandas as gpd\n",
    "#import libpysal as lps\n",
    "import matplotlib.pyplot as plt\n",
    "from glob import glob\n",
    "from tqdm import tqdm\n",
    "from shapely.geometry import MultiPolygon, Polygon\n",
    "from json import loads"
   ]
  },
  {
   "cell_type": "code",
   "execution_count": null,
   "id": "46912222-26c3-4fe4-8edd-fff1427f782c",
   "metadata": {},
   "outputs": [],
   "source": []
  },
  {
   "cell_type": "code",
   "execution_count": 127,
   "id": "a5ed3965-3ae6-41f4-8604-ac1e480797cb",
   "metadata": {},
   "outputs": [],
   "source": [
    "# Creamos una función que genere los poligonos de la cdmx con la información que necesitamos, mediante un metodo constructor que genera \"objetos\" para este caso practico nuestro objeto son los poligonos, los cuales son formas geometricas que delimitan la forma que tienen las delegaciones. A estos obejetos les corresponde información contenida en la base de datos predial; es decir, a la información predial de Tlalpan (atributos) le asiganmos un poligono (objeto)  \n",
    "\n",
    "def csv2shp (df): #Definimos la función como \"csv2shp\"\n",
    "    pols=[] #creamos una lista vacia que almacenara los poligonos\n",
    "    for i in df.geo_shape: #Creamos un ciclo iterativo que genera la información de los poligonos que irán a la lista antes mencionada \n",
    "        pol=loads(i)['coordinates'][0] #Creamos una variable llamada \"pol\" que almacenara las coordenadas de los poligonos, esto es importante porque vuelve la información espacial. \n",
    "        if len(pol)<2: #Usamos if para el ciclo y quiere decir que en tanto se tengan menos de 2 poligonos se concretara el proceso de extraer las coordenadas para esa geometria   \n",
    "            pols.append(Polygon(pol[0])) #Polygon es un metodo constructor de la libreria \"shapely.geometry\"\n",
    "        else: #Else le indica al programa que hacer en caso de que se encuentre un multipoligono  \n",
    "            multis= [] #Es una lista vacia que almacenara aquellas geometrias que se compongan de poligonos compuestos de varias geometrias a lo cual llamamos multipoligono  \n",
    "            for j in pol: #ciclo para los multipoligonos \n",
    "                multis.append(Polygon(j)) #Implementa el metodo constructor en los multipoligonos \n",
    "            pols.append(MultiPolygon(multis)) #Añade los multipoligonos procesasdos a la lista de poligonos para tener nuestros datos completos \n",
    "\n",
    "    df['geometry']= pols #En la tabala que construimos llamada \"df\" almacenamos los datos procesados en el paso anterior  \n",
    "    gdf= gpd.GeoDataFrame(df,crs='EPSG:4326').drop(columns='geo_shape') #Creamos una variable llamada gdf que almacenará la proyección geografica asignada a los datos en la tabla df\n",
    "    \n",
    "    return gdf #Regresa los datos procesados en la forma deseada "
   ]
  },
  {
   "cell_type": "markdown",
   "id": "dac6f028-6c10-493e-a639-15b1393fdc35",
   "metadata": {},
   "source": [
    "### Crear archivos shp con datos catastrles a nivel predio CDMX"
   ]
  },
  {
   "cell_type": "code",
   "execution_count": null,
   "id": "db680cf7-09fa-4cee-a6d6-a19ae1ab888f",
   "metadata": {},
   "outputs": [],
   "source": [
    "#Para crear el mapa que nos muestre los valores prediales de la cdmx no contamos con datos que nos proporcione directamente esta información, pero podemos construir los datos a partir de dos conjuntos, uno que nos da la información espacial (geografica) y el otro nos da la base de datos de los valuos prediales.\n",
    "#Creamos una variable llamada csv para almacenar todos los archivos csv (contienen la información predial) esto debido a que se tiene un archivo csv por cada delegación\n",
    "csv= glob('Data/*.csv')"
   ]
  },
  {
   "cell_type": "code",
   "execution_count": 147,
   "id": "16701fa0-5fda-4b54-9da8-0a6bec1242ea",
   "metadata": {},
   "outputs": [
    {
     "name": "stderr",
     "output_type": "stream",
     "text": [
      "100%|██████████████████████████████████████████████████████████████████████████████████| 16/16 [14:38<00:00, 54.90s/it]\n"
     ]
    }
   ],
   "source": [
    "for i in tqdm(csv): #Creamos un ciclo para dar tratamiento a los datos en crudo, lo que se hizo fue extraer los datos que nos sirven para  el proyecto e  indicar el tipo de dato que es; es decir diferenciar entre los valores que son palabaras y  los que son números, es importante ya que así podremos realizar operaciones matematicas. \n",
    "    df= pd.read_csv(i, usecols= ['fid','codigo_postal','superficie_terreno','valor_unitario_suelo','geo_shape','colonia_predio','anio_construccion'],\n",
    "                    dtype= {'fid':str,'codigo_postal':str,'superficie_terreno':float,'valor_unitario_suelo':float,'geo_shape':str,'colonia_predio':str,'anio_construccion':float})\n",
    "\n",
    "    df= df[~df.geo_shape.isna()].copy() #Elimina aquellos datos que carecen de información espacial\n",
    "\n",
    "    gdf= csv2shp(df).to_crs('EPSG:32614') #Asignamos la proyección geografica correspondiente a la zona utm de la CDMX\n",
    "\n",
    "    gdf.to_file('Data/Outputs/{}.shp'.format(i[i.find('mx_')+3:i.find('_08')].replace(\" \",\"_\"))) #Indicamos que los resulados obetnidos deben almacenarce en un archivo llamado \"Outputs\""
   ]
  },
  {
   "cell_type": "markdown",
   "id": "2c599689-a020-4b12-bafd-93304b22fa2c",
   "metadata": {},
   "source": [
    "### Juntar con archivos AGEB "
   ]
  },
  {
   "cell_type": "code",
   "execution_count": 6,
   "id": "16a6d8c2-bb3c-4c5d-bcfb-8a380bb805e7",
   "metadata": {},
   "outputs": [],
   "source": [
    "ageb= gpd.read_file('Data/conjunto_de_datos/09a.shp') #Creamos una varibbale llamada ageb que almacenará los archivos shp de la ciudad de México, los cuales contienen la información que hace a nuestros datos espaciales"
   ]
  },
  {
   "cell_type": "code",
   "execution_count": 11,
   "id": "4852c26d-f312-43e1-a65e-6cc399fe30c7",
   "metadata": {},
   "outputs": [
    {
     "data": {
      "text/plain": [
       "<Projected CRS: PROJCS[\"MEXICO_ITRF_2008_LCC\",GEOGCS[\"GCS_ITRF_200 ...>\n",
       "Name: MEXICO_ITRF_2008_LCC\n",
       "Axis Info [cartesian]:\n",
       "- [east]: Easting (metre)\n",
       "- [north]: Northing (metre)\n",
       "Area of Use:\n",
       "- undefined\n",
       "Coordinate Operation:\n",
       "- name: unnamed\n",
       "- method: Lambert Conic Conformal (2SP)\n",
       "Datum: International Terrestrial Reference Frame 2008\n",
       "- Ellipsoid: GRS 1980\n",
       "- Prime Meridian: Greenwich"
      ]
     },
     "execution_count": 11,
     "metadata": {},
     "output_type": "execute_result"
    }
   ],
   "source": [
    "ageb.crs # Podemos  observar que los datos crudos se encuentran en un sistema de coordenadas conocido como \"CCL\" esto debido a que la información se produce así. Debemos pasarlo a un sistema conocido como UTM para poder realizar metricas estadisticas con los datos, así la información que se produzca será entendible "
   ]
  },
  {
   "cell_type": "code",
   "execution_count": null,
   "id": "cac2193b-0113-4f0d-8a3a-f1c72bb6000d",
   "metadata": {},
   "outputs": [],
   "source": [
    "ageb= ageb.to_crs('EPSG:32614') #Comando para reproyectar los datos "
   ]
  },
  {
   "cell_type": "code",
   "execution_count": 14,
   "id": "01c766b3-8794-405b-8790-f39705af3af0",
   "metadata": {},
   "outputs": [
    {
     "data": {
      "text/plain": [
       "<Projected CRS: EPSG:32614>\n",
       "Name: WGS 84 / UTM zone 14N\n",
       "Axis Info [cartesian]:\n",
       "- E[east]: Easting (metre)\n",
       "- N[north]: Northing (metre)\n",
       "Area of Use:\n",
       "- name: World - N hemisphere - 102°W to 96°W - by country\n",
       "- bounds: (-102.0, 0.0, -96.0, 84.0)\n",
       "Coordinate Operation:\n",
       "- name: UTM zone 14N\n",
       "- method: Transverse Mercator\n",
       "Datum: World Geodetic System 1984\n",
       "- Ellipsoid: WGS 84\n",
       "- Prime Meridian: Greenwich"
      ]
     },
     "execution_count": 14,
     "metadata": {},
     "output_type": "execute_result"
    }
   ],
   "source": [
    "ageb.crs #Podemos observar que los datos ya estan transformados y de esta forma podemos comenzar a hacer metricas estadisticas "
   ]
  },
  {
   "cell_type": "markdown",
   "id": "9b4940dc-30d3-4c18-a788-f505d9e5aab5",
   "metadata": {},
   "source": [
    "### Filtramos información "
   ]
  },
  {
   "cell_type": "code",
   "execution_count": 24,
   "id": "80f80254-a61e-4b04-b4bb-1985247da19d",
   "metadata": {},
   "outputs": [],
   "source": [
    "cveMun= {'ALVARO OBREGON':'010','AZCAPOTZALCO':'002','BENITO JUAREZ':'014','COYOACAN':'003','CUAJIMALPA DE MORELOS':'004','CUAUHTEMOC':'015','GUSTAVO A. MADERO':'005','IZTACALCO':'006','IZTALAPA':'007'}"
   ]
  },
  {
   "cell_type": "code",
   "execution_count": 25,
   "id": "51fe53d4-eb3c-4fd7-91dd-487de0f30694",
   "metadata": {},
   "outputs": [
    {
     "data": {
      "text/plain": [
       "{'ALVARO OBREGON': '005'}"
      ]
     },
     "execution_count": 25,
     "metadata": {},
     "output_type": "execute_result"
    }
   ],
   "source": [
    "cveMun"
   ]
  },
  {
   "cell_type": "code",
   "execution_count": 17,
   "id": "9cb324f4-f168-40fe-a17e-2cd90b7bee93",
   "metadata": {},
   "outputs": [
    {
     "data": {
      "text/html": [
       "<div>\n",
       "<style scoped>\n",
       "    .dataframe tbody tr th:only-of-type {\n",
       "        vertical-align: middle;\n",
       "    }\n",
       "\n",
       "    .dataframe tbody tr th {\n",
       "        vertical-align: top;\n",
       "    }\n",
       "\n",
       "    .dataframe thead th {\n",
       "        text-align: right;\n",
       "    }\n",
       "</style>\n",
       "<table border=\"1\" class=\"dataframe\">\n",
       "  <thead>\n",
       "    <tr style=\"text-align: right;\">\n",
       "      <th></th>\n",
       "      <th>CVEGEO</th>\n",
       "      <th>CVE_ENT</th>\n",
       "      <th>CVE_MUN</th>\n",
       "      <th>CVE_LOC</th>\n",
       "      <th>CVE_AGEB</th>\n",
       "      <th>geometry</th>\n",
       "    </tr>\n",
       "  </thead>\n",
       "  <tbody>\n",
       "    <tr>\n",
       "      <th>0</th>\n",
       "      <td>0901000011716</td>\n",
       "      <td>09</td>\n",
       "      <td>010</td>\n",
       "      <td>0001</td>\n",
       "      <td>1716</td>\n",
       "      <td>POLYGON ((472812.200 2136873.002, 472863.255 2...</td>\n",
       "    </tr>\n",
       "    <tr>\n",
       "      <th>1</th>\n",
       "      <td>0901000012150</td>\n",
       "      <td>09</td>\n",
       "      <td>010</td>\n",
       "      <td>0001</td>\n",
       "      <td>2150</td>\n",
       "      <td>POLYGON ((479869.167 2142767.195, 479870.176 2...</td>\n",
       "    </tr>\n",
       "    <tr>\n",
       "      <th>2</th>\n",
       "      <td>0901000011133</td>\n",
       "      <td>09</td>\n",
       "      <td>010</td>\n",
       "      <td>0001</td>\n",
       "      <td>1133</td>\n",
       "      <td>POLYGON ((481347.394 2139766.045, 481340.716 2...</td>\n",
       "    </tr>\n",
       "    <tr>\n",
       "      <th>3</th>\n",
       "      <td>0901000011307</td>\n",
       "      <td>09</td>\n",
       "      <td>010</td>\n",
       "      <td>0001</td>\n",
       "      <td>1307</td>\n",
       "      <td>POLYGON ((478143.675 2135448.746, 478182.809 2...</td>\n",
       "    </tr>\n",
       "    <tr>\n",
       "      <th>4</th>\n",
       "      <td>0901000010281</td>\n",
       "      <td>09</td>\n",
       "      <td>010</td>\n",
       "      <td>0001</td>\n",
       "      <td>0281</td>\n",
       "      <td>POLYGON ((474558.735 2143390.938, 474553.848 2...</td>\n",
       "    </tr>\n",
       "    <tr>\n",
       "      <th>...</th>\n",
       "      <td>...</td>\n",
       "      <td>...</td>\n",
       "      <td>...</td>\n",
       "      <td>...</td>\n",
       "      <td>...</td>\n",
       "      <td>...</td>\n",
       "    </tr>\n",
       "    <tr>\n",
       "      <th>2426</th>\n",
       "      <td>0900700012564</td>\n",
       "      <td>09</td>\n",
       "      <td>007</td>\n",
       "      <td>0001</td>\n",
       "      <td>2564</td>\n",
       "      <td>POLYGON ((499734.243 2140378.701, 499732.435 2...</td>\n",
       "    </tr>\n",
       "    <tr>\n",
       "      <th>2427</th>\n",
       "      <td>0900700012615</td>\n",
       "      <td>09</td>\n",
       "      <td>007</td>\n",
       "      <td>0001</td>\n",
       "      <td>2615</td>\n",
       "      <td>POLYGON ((500071.261 2140072.198, 500117.052 2...</td>\n",
       "    </tr>\n",
       "    <tr>\n",
       "      <th>2428</th>\n",
       "      <td>0900700012969</td>\n",
       "      <td>09</td>\n",
       "      <td>007</td>\n",
       "      <td>0001</td>\n",
       "      <td>2969</td>\n",
       "      <td>POLYGON ((501689.260 2139068.687, 501715.608 2...</td>\n",
       "    </tr>\n",
       "    <tr>\n",
       "      <th>2429</th>\n",
       "      <td>0900700013721</td>\n",
       "      <td>09</td>\n",
       "      <td>007</td>\n",
       "      <td>0001</td>\n",
       "      <td>3721</td>\n",
       "      <td>POLYGON ((493681.889 2141041.356, 493654.288 2...</td>\n",
       "    </tr>\n",
       "    <tr>\n",
       "      <th>2430</th>\n",
       "      <td>0900700011034</td>\n",
       "      <td>09</td>\n",
       "      <td>007</td>\n",
       "      <td>0001</td>\n",
       "      <td>1034</td>\n",
       "      <td>POLYGON ((494035.184 2141008.254, 493950.705 2...</td>\n",
       "    </tr>\n",
       "  </tbody>\n",
       "</table>\n",
       "<p>2431 rows × 6 columns</p>\n",
       "</div>"
      ],
      "text/plain": [
       "             CVEGEO CVE_ENT CVE_MUN CVE_LOC CVE_AGEB  \\\n",
       "0     0901000011716      09     010    0001     1716   \n",
       "1     0901000012150      09     010    0001     2150   \n",
       "2     0901000011133      09     010    0001     1133   \n",
       "3     0901000011307      09     010    0001     1307   \n",
       "4     0901000010281      09     010    0001     0281   \n",
       "...             ...     ...     ...     ...      ...   \n",
       "2426  0900700012564      09     007    0001     2564   \n",
       "2427  0900700012615      09     007    0001     2615   \n",
       "2428  0900700012969      09     007    0001     2969   \n",
       "2429  0900700013721      09     007    0001     3721   \n",
       "2430  0900700011034      09     007    0001     1034   \n",
       "\n",
       "                                               geometry  \n",
       "0     POLYGON ((472812.200 2136873.002, 472863.255 2...  \n",
       "1     POLYGON ((479869.167 2142767.195, 479870.176 2...  \n",
       "2     POLYGON ((481347.394 2139766.045, 481340.716 2...  \n",
       "3     POLYGON ((478143.675 2135448.746, 478182.809 2...  \n",
       "4     POLYGON ((474558.735 2143390.938, 474553.848 2...  \n",
       "...                                                 ...  \n",
       "2426  POLYGON ((499734.243 2140378.701, 499732.435 2...  \n",
       "2427  POLYGON ((500071.261 2140072.198, 500117.052 2...  \n",
       "2428  POLYGON ((501689.260 2139068.687, 501715.608 2...  \n",
       "2429  POLYGON ((493681.889 2141041.356, 493654.288 2...  \n",
       "2430  POLYGON ((494035.184 2141008.254, 493950.705 2...  \n",
       "\n",
       "[2431 rows x 6 columns]"
      ]
     },
     "execution_count": 17,
     "metadata": {},
     "output_type": "execute_result"
    }
   ],
   "source": [
    "ageb"
   ]
  },
  {
   "cell_type": "code",
   "execution_count": 23,
   "id": "5260a7bf-bc0a-4224-9093-18f62b96d464",
   "metadata": {},
   "outputs": [
    {
     "name": "stdout",
     "output_type": "stream",
     "text": [
      "Data\\sig_cdmx_ALVARO OBREGON_08-2020.csv\n"
     ]
    }
   ],
   "source": [
    "csv[0] "
   ]
  }
 ],
 "metadata": {
  "kernelspec": {
   "display_name": "Python 3",
   "language": "python",
   "name": "python3"
  },
  "language_info": {
   "codemirror_mode": {
    "name": "ipython",
    "version": 3
   },
   "file_extension": ".py",
   "mimetype": "text/x-python",
   "name": "python",
   "nbconvert_exporter": "python",
   "pygments_lexer": "ipython3",
   "version": "3.8.10"
  }
 },
 "nbformat": 4,
 "nbformat_minor": 5
}
