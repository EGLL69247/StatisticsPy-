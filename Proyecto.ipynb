{
 "cells": [
  {
   "cell_type": "code",
   "execution_count": 73,
   "id": "1c246332-cd36-4d63-9a4a-73d0ca41ce5b",
   "metadata": {},
   "outputs": [],
   "source": [
    "#1. Como primer paso partimos de instalar las librerias necesarias para este proyecyto, las cuales aparecen a continuación:\n",
    "\n",
    "#import esda \n",
    "import pandas as pd\n",
    "import geopandas as gpd\n",
    "#import libpysal as lps\n",
    "import matplotlib.pyplot as plt\n",
    "from glob import glob\n",
    "from tqdm import tqdm\n",
    "from shapely.geometry import MultiPolygon, Polygon\n",
    "from json import loads"
   ]
  },
  {
   "cell_type": "code",
   "execution_count": 148,
   "id": "f8c6bc04-4dd3-4e05-a324-66b8804b9f02",
   "metadata": {},
   "outputs": [],
   "source": [
    "#Para crear el mapa que nos muestre los valores prediales de la cdmx no contamos con datos que nos proporcione directamente esta información, pero podemos construir los datos a partir de dos conjuntos, uno que nos da la información espacial (geografica) y el otro nos da la base de datos de los valuos prediales.\n",
    "#Creamos una variable llamada csv para almacenar todos los archivos csv (contienen la información predial) esto debido a que se tiene un archivo csv por cada delegación\n",
    "csv= glob('Data/*.csv')"
   ]
  },
  {
   "cell_type": "code",
   "execution_count": 127,
   "id": "a5ed3965-3ae6-41f4-8604-ac1e480797cb",
   "metadata": {},
   "outputs": [],
   "source": [
    "# Creamos una función que genere los poligonos de la cdmx con la información que necesitamos, mediante un metodo constructor que genera \"objetos\" para este caso practico nuestro objeto son los poligonos, los cuales son formas geometricas que delimitan la forma que tienen las delegaciones. A estos obejetos les corresponde información contenida en la base de datos predial; es decir, a la información predial de Tlalpan (atributos) le asiganmos un poligono (objeto)  \n",
    "\n",
    "def csv2shp (df): #Definimos la función como \"csv2shp\"\n",
    "    pols=[] #creamos una lista vacia que almacenara los poligonos\n",
    "    for i in df.geo_shape: #Creamos un ciclo iterativo que genera la información de los poligonos que irán a la lista antes mencionada \n",
    "        pol=loads(i)['coordinates'][0]\n",
    "        if len(pol)<2:\n",
    "            pols.append(Polygon(pol[0])) #Polygon es un metodo constructor de la libreria \"shapely.geometry\"\n",
    "        else: \n",
    "            multis= []\n",
    "            for j in pol:\n",
    "                multis.append(Polygon(j))\n",
    "            pols.append(MultiPolygon(multis))\n",
    "\n",
    "    df['geometry']= pols\n",
    "    gdf= gpd.GeoDataFrame(df,crs='EPSG:4326').drop(columns='geo_shape')\n",
    "    \n",
    "    return gdf "
   ]
  },
  {
   "cell_type": "code",
   "execution_count": 147,
   "id": "16701fa0-5fda-4b54-9da8-0a6bec1242ea",
   "metadata": {},
   "outputs": [
    {
     "name": "stderr",
     "output_type": "stream",
     "text": [
      "100%|██████████████████████████████████████████████████████████████████████████████████| 16/16 [14:38<00:00, 54.90s/it]\n"
     ]
    }
   ],
   "source": [
    "for i in tqdm(csv):\n",
    "    df= pd.read_csv(i, usecols= ['fid','codigo_postal','superficie_terreno','valor_unitario_suelo','geo_shape','colonia_predio','anio_construccion'],\n",
    "                    dtype= {'fid':str,'codigo_postal':str,'superficie_terreno':float,'valor_unitario_suelo':float,'geo_shape':str,'colonia_predio':str,'anio_construccion':float})\n",
    "\n",
    "    df= df[~df.geo_shape.isna()].copy() #Elimina aquellos datos que carecen de información espacial\n",
    "\n",
    "    gdf= csv2shp(df).to_crs('EPSG:32614')\n",
    "\n",
    "    gdf.to_file('Data/Outputs/{}.shp'.format(i[i.find('mx_')+3:i.find('_08')].replace(\" \",\"_\")))"
   ]
  },
  {
   "cell_type": "code",
   "execution_count": null,
   "id": "92049b72-ebb0-4fab-b67b-22bbf20bc130",
   "metadata": {},
   "outputs": [],
   "source": []
  }
 ],
 "metadata": {
  "kernelspec": {
   "display_name": "Python 3",
   "language": "python",
   "name": "python3"
  },
  "language_info": {
   "codemirror_mode": {
    "name": "ipython",
    "version": 3
   },
   "file_extension": ".py",
   "mimetype": "text/x-python",
   "name": "python",
   "nbconvert_exporter": "python",
   "pygments_lexer": "ipython3",
   "version": "3.8.10"
  }
 },
 "nbformat": 4,
 "nbformat_minor": 5
}
